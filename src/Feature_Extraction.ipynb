{
 "cells": [
  {
   "cell_type": "code",
   "execution_count": 3,
   "metadata": {
    "collapsed": true
   },
   "outputs": [],
   "source": [
    "import pandas as pd\n",
    "import numpy as np\n",
    "from sklearn.ensemble import RandomForestRegressor\n",
    "from sklearn.ensemble import GradientBoostingRegressor\n",
    "from sklearn.metrics import r2_score, mean_squared_error\n",
    "from sklearn.cross_validation import KFold"
   ]
  },
  {
   "cell_type": "code",
   "execution_count": 4,
   "metadata": {
    "collapsed": true
   },
   "outputs": [],
   "source": [
    "data_path = '/devdata/course_proj/aml/CitiBot/data/'"
   ]
  },
  {
   "cell_type": "code",
   "execution_count": 5,
   "metadata": {
    "collapsed": true
   },
   "outputs": [],
   "source": [
    "train = pd.read_csv(data_path+'train.csv').ix[:,1:]\n",
    "testSet = pd.read_csv(data_path+'test.csv').ix[:,1:]\n",
    "# encode features for random forest and concatenate them back to dataframe\n",
    "train = pd.concat([train, train['season'].str.get_dummies(sep=',')], axis=1)\n",
    "train = pd.concat([train, train['dayOfWeek'].str.get_dummies(sep=',')], axis=1)\n",
    "\n",
    "testSet = pd.concat([testSet, testSet['season'].str.get_dummies(sep=',')], axis=1)\n",
    "testSet = pd.concat([testSet, testSet['dayOfWeek'].str.get_dummies(sep=',')], axis=1)\n",
    "\n",
    "# we don't have 'spring', 'summer', 'fall' in current test set\n",
    "cols = ['Monday', 'Tuesday', 'Wednesday', 'Thursday', 'Friday', 'Saturday', 'Sunday', \n",
    "        'holiday','winter',\n",
    "        'max', 'min', 'rain' ,'snow']\n",
    "\n",
    "X_train = train[cols]\n",
    "y_train = train.visited\n",
    "X_test = testSet[cols]\n",
    "y_test = testSet.visited\n",
    "\n"
   ]
  },
  {
   "cell_type": "code",
   "execution_count": 6,
   "metadata": {
    "collapsed": true
   },
   "outputs": [],
   "source": [
    "#gredient boosting regressor For Feature Extraction\n",
    "\n",
    "def gbm_features(traned_gbm, data_x):\n",
    "    # gredient boosting regressor with least square loss function   \n",
    "    X_gbm = gbm.transform(data_x)\n",
    "    return X_gbm"
   ]
  },
  {
   "cell_type": "code",
   "execution_count": 14,
   "metadata": {
    "collapsed": false
   },
   "outputs": [
    {
     "data": {
      "text/plain": [
       "GradientBoostingRegressor(alpha=0.9, init=None, learning_rate=0.01, loss='ls',\n",
       "             max_depth=4, max_features=None, max_leaf_nodes=None,\n",
       "             min_samples_leaf=1, min_samples_split=1,\n",
       "             min_weight_fraction_leaf=0.0, n_estimators=200,\n",
       "             random_state=None, subsample=1.0, verbose=0, warm_start=False)"
      ]
     },
     "execution_count": 14,
     "metadata": {},
     "output_type": "execute_result"
    }
   ],
   "source": [
    "params = {'n_estimators': 200, 'max_depth': 4, 'min_samples_split': 1,\n",
    "          'learning_rate': 0.01, 'loss': 'ls'}\n",
    "\n",
    "gbm = GradientBoostingRegressor(**params)\n",
    "gbm.fit(X_train.values, y_train.values)\n"
   ]
  },
  {
   "cell_type": "code",
   "execution_count": 17,
   "metadata": {
    "collapsed": false
   },
   "outputs": [],
   "source": [
    "X_gbm = gbm.transform(X_test.values)"
   ]
  },
  {
   "cell_type": "code",
   "execution_count": 19,
   "metadata": {
    "collapsed": false
   },
   "outputs": [
    {
     "data": {
      "text/plain": [
       "array([[  4.20000000e+01,   3.40000000e+01,   0.00000000e+00],\n",
       "       [  4.20000000e+01,   3.40000000e+01,   0.00000000e+00],\n",
       "       [  4.20000000e+01,   3.40000000e+01,   0.00000000e+00],\n",
       "       ..., \n",
       "       [  6.10000000e+01,   4.70000000e+01,   5.00000000e-02],\n",
       "       [  6.10000000e+01,   4.70000000e+01,   5.00000000e-02],\n",
       "       [  6.10000000e+01,   4.70000000e+01,   5.00000000e-02]])"
      ]
     },
     "execution_count": 19,
     "metadata": {},
     "output_type": "execute_result"
    }
   ],
   "source": []
  }
 ],
 "metadata": {
  "kernelspec": {
   "display_name": "Python 2",
   "language": "python",
   "name": "python2"
  },
  "language_info": {
   "codemirror_mode": {
    "name": "ipython",
    "version": 2
   },
   "file_extension": ".py",
   "mimetype": "text/x-python",
   "name": "python",
   "nbconvert_exporter": "python",
   "pygments_lexer": "ipython2",
   "version": "2.7.10"
  }
 },
 "nbformat": 4,
 "nbformat_minor": 0
}
